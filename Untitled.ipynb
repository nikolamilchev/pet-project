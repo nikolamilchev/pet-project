{
 "cells": [
  {
   "cell_type": "code",
   "execution_count": 104,
   "id": "eec9857b",
   "metadata": {},
   "outputs": [],
   "source": [
    "def zesar(message,n):\n",
    "    return ''.join([chr(((ord(i.lower())+(n))%26)+97) if ord(i.lower()) in [i for i in range(97,123)] else i for i in message])"
   ]
  },
  {
   "cell_type": "code",
   "execution_count": 105,
   "id": "8dde7191",
   "metadata": {},
   "outputs": [
    {
     "data": {
      "text/plain": [
       "\"gdqd khdr ehqdcnqm, z gdqn hm adc. gd nmbd vzr zkhud, ats mnv gd'r cdzc. sgd kzrs vnlzm gd adccdc stqmdc nts z lzm. zmc bqxhmf hm rgzld, nee z bkhee gd qzm\""
      ]
     },
     "execution_count": 105,
     "metadata": {},
     "output_type": "execute_result"
    }
   ],
   "source": [
    "zesar('Here lies Firedorn, a hero in bed. He once was alive, but now he\\'s dead. The last woman he bedded turned out a man. And crying in shame, off a cliff he ran',32)"
   ]
  },
  {
   "cell_type": "code",
   "execution_count": 86,
   "id": "07fc66f0",
   "metadata": {},
   "outputs": [
    {
     "data": {
      "text/plain": [
       "['a',\n",
       " 'b',\n",
       " 'c',\n",
       " 'd',\n",
       " 'e',\n",
       " 'f',\n",
       " 'g',\n",
       " 'h',\n",
       " 'i',\n",
       " 'j',\n",
       " 'k',\n",
       " 'l',\n",
       " 'm',\n",
       " 'n',\n",
       " 'o',\n",
       " 'p',\n",
       " 'q',\n",
       " 'r',\n",
       " 's',\n",
       " 't',\n",
       " 'u',\n",
       " 'v',\n",
       " 'w',\n",
       " 'x',\n",
       " 'y',\n",
       " 'z',\n",
       " 'A',\n",
       " 'B',\n",
       " 'C',\n",
       " 'D',\n",
       " 'E',\n",
       " 'F',\n",
       " 'G',\n",
       " 'H',\n",
       " 'I',\n",
       " 'J',\n",
       " 'K',\n",
       " 'L',\n",
       " 'M',\n",
       " 'N',\n",
       " 'O',\n",
       " 'P',\n",
       " 'Q',\n",
       " 'R',\n",
       " 'S',\n",
       " 'T',\n",
       " 'U',\n",
       " 'V',\n",
       " 'W',\n",
       " 'X',\n",
       " 'Y',\n",
       " 'Z']"
      ]
     },
     "execution_count": 86,
     "metadata": {},
     "output_type": "execute_result"
    }
   ],
   "source": [
    "[chr(i) for i in range(97,123)]+[chr(i) for i in range(65,91)]"
   ]
  },
  {
   "cell_type": "code",
   "execution_count": null,
   "id": "5197ff34",
   "metadata": {},
   "outputs": [],
   "source": []
  }
 ],
 "metadata": {
  "kernelspec": {
   "display_name": "Python 3 (ipykernel)",
   "language": "python",
   "name": "python3"
  },
  "language_info": {
   "codemirror_mode": {
    "name": "ipython",
    "version": 3
   },
   "file_extension": ".py",
   "mimetype": "text/x-python",
   "name": "python",
   "nbconvert_exporter": "python",
   "pygments_lexer": "ipython3",
   "version": "3.9.0"
  }
 },
 "nbformat": 4,
 "nbformat_minor": 5
}
